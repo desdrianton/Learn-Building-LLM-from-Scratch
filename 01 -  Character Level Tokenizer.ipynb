{
 "cells": [
  {
   "cell_type": "code",
   "execution_count": 39,
   "metadata": {},
   "outputs": [],
   "source": [
    "with open(\"dorothy_and_the_wizard_in_oz.txt\", \"r\", encoding=\"utf-8\") as f:\n",
    "    corpus_text = f.read()\n",
    "\n",
    "corpus_text_length = len(corpus_text)"
   ]
  },
  {
   "cell_type": "code",
   "execution_count": 40,
   "metadata": {},
   "outputs": [],
   "source": [
    "vocabulary = sorted(set(corpus_text))\n",
    "vocabulary_length = len(vocabulary)\n",
    "\n",
    "# ---------------------------------------- string_to_int dictionary\n",
    "# string_to_int = {ch: i for i, ch in enumerate(chars)}\n",
    "string_to_int_dictionary = {}\n",
    "for i, c in enumerate(vocabulary):\n",
    "    string_to_int_dictionary[c] = i\n",
    "\n",
    "\n",
    "string_to_int_dictionary_length = len(string_to_int_dictionary)\n",
    "\n",
    "\n",
    "# ---------------------------------------- int_to_string dictionary\n",
    "# int_to_string = {i: ch for i, ch in enumerate(chars)}\n",
    "int_to_string_dictionary = {}\n",
    "for i, c in enumerate(vocabulary):\n",
    "    int_to_string_dictionary[i] = c\n",
    "\n",
    "\n",
    "int_to_string_dictionary_length = len(int_to_string_dictionary)\n",
    "\n",
    "# ---------------------------------------- encode string\n",
    "# encode = lambda s: [string_to_int[c] for c in s]\n",
    "def encode(string):\n",
    "    result = []\n",
    "    for c in string:\n",
    "        result.append(string_to_int_dictionary[c])\n",
    "\n",
    "    return result\n",
    "\n",
    "\n",
    "# ---------------------------------------- decode int\n",
    "# decode = lambda l: ''.join([int_to_string[i] for i in l])\n",
    "def decode(int_list):\n",
    "    result = \"\"\n",
    "    for i in int_list:\n",
    "        result = result + int_to_string_dictionary[i]\n",
    "    \n",
    "    return result"
   ]
  },
  {
   "cell_type": "code",
   "execution_count": 41,
   "metadata": {},
   "outputs": [],
   "source": [
    "import torch as torch\n",
    "\n",
    "tensor_data = torch.tensor(encode(corpus_text), dtype=torch.long)\n",
    "tensor_data_length = len(tensor_data)"
   ]
  },
  {
   "cell_type": "code",
   "execution_count": 42,
   "metadata": {},
   "outputs": [],
   "source": [
    "train_data_percentage = 0.8\n",
    "\n",
    "train_data_length = int(train_data_percentage * tensor_data_length)\n",
    "train_data = tensor_data[:train_data_length]\n",
    "\n",
    "val_data_length = tensor_data_length - train_data_length\n",
    "val_data = tensor_data[train_data_length:]"
   ]
  },
  {
   "cell_type": "code",
   "execution_count": 43,
   "metadata": {},
   "outputs": [
    {
     "name": "stdout",
     "output_type": "stream",
     "text": [
      "==================== Corpus =====================================\n",
      "corpus_text (first 50 chars)   => ﻿The Project Gutenberg eBook of Dorothy and the Wi\n",
      "corpus_text_length             => 252022\n",
      "\n",
      "==================== Vocabulary & Dictionary ====================\n",
      "vocabulary (first 20) => ['\\n', ' ', '!', '\"', '#', '$', '%', '&', \"'\", '(', ')', '*', ',', '-', '.', '/', '0', '1', '2', '3']\n",
      "vocabulary_length     => 92\n",
      "int_to_string_dictionary_length     => 92\n",
      "string_to_int_dictionary_length     => 92\n",
      "\n",
      "==================== Tensor Data ================================\n",
      "tensor_data (first 10) => tensor([91, 48, 65, 62,  1, 44, 75, 72, 67, 62])\n",
      "tensor_data_length     => 252022\n",
      "\n",
      "train_data (first 10)  => tensor([91, 48, 65, 62,  1, 44, 75, 72, 67, 62])\n",
      "train_data_length      => 201617\n",
      "\n",
      "val_data (first 10)    => tensor([ 1, 77, 65, 62,  1, 76, 62, 58, 77,  1])\n",
      "val_data_length        => 50405\n",
      "\n"
     ]
    }
   ],
   "source": [
    "print(\"==================== Corpus =====================================\")\n",
    "print(f\"corpus_text (first 50 chars)   => {corpus_text[:50]}\")\n",
    "print(f\"corpus_text_length             => {corpus_text_length}\")\n",
    "print()\n",
    "\n",
    "print(\"==================== Vocabulary & Dictionary ====================\")\n",
    "print(f\"vocabulary (first 20) => {vocabulary[:20]}\")\n",
    "print(f\"vocabulary_length     => {vocabulary_length}\")\n",
    "print(f\"int_to_string_dictionary_length     => {int_to_string_dictionary_length}\")\n",
    "print(f\"string_to_int_dictionary_length     => {string_to_int_dictionary_length}\")\n",
    "print()\n",
    "\n",
    "print(\"==================== Tensor Data ================================\")\n",
    "print(f\"tensor_data (first 10) => {tensor_data[:10]}\")\n",
    "print(f\"tensor_data_length     => {tensor_data_length}\")\n",
    "print()\n",
    "print(f\"train_data (first 10)  => {train_data[:10]}\")\n",
    "print(f\"train_data_length      => {train_data_length}\")\n",
    "print()\n",
    "print(f\"val_data (first 10)    => {val_data[:10]}\")\n",
    "print(f\"val_data_length        => {val_data_length}\")\n",
    "print()"
   ]
  }
 ],
 "metadata": {
  "kernelspec": {
   "display_name": "Python 3 (ipykernel)",
   "language": "python",
   "name": "python3"
  },
  "language_info": {
   "codemirror_mode": {
    "name": "ipython",
    "version": 3
   },
   "file_extension": ".py",
   "mimetype": "text/x-python",
   "name": "python",
   "nbconvert_exporter": "python",
   "pygments_lexer": "ipython3",
   "version": "3.12.4"
  }
 },
 "nbformat": 4,
 "nbformat_minor": 2
}
